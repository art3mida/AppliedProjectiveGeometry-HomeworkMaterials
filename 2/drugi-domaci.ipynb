{
 "cells": [
  {
   "cell_type": "markdown",
   "metadata": {},
   "source": [
    "# Drugi domaći zadatak iz PPGR\n",
    "\n",
    "Student: Teodora Nićković, mi16057\n",
    "\n",
    "Tema: Izračunavanje matrice projektivnog preslikavanja na osnovu zadatih tačaka"
   ]
  },
  {
   "cell_type": "code",
   "execution_count": 65,
   "metadata": {},
   "outputs": [],
   "source": [
    "import numpy as np\n",
    "from numpy import linalg as la\n",
    "import math"
   ]
  },
  {
   "cell_type": "markdown",
   "metadata": {},
   "source": [
    "## 1. Naivni algoritam"
   ]
  },
  {
   "cell_type": "code",
   "execution_count": 66,
   "metadata": {},
   "outputs": [],
   "source": [
    "def naive_algorithm_canon(points):\n",
    "    A = points[0]\n",
    "    B = points[1]\n",
    "    C = points[2]\n",
    "    D = points[3]\n",
    "    \n",
    "    A0 = (1, 0, 0)\n",
    "    B0 = (0, 1, 0)\n",
    "    C0 = (0, 0, 1)\n",
    "    D0 = (1, 1, 1)\n",
    "    \n",
    "    delta = [ [A[0], B[0], C[0]],\n",
    "              [A[1], B[1], C[1]],\n",
    "              [A[2], B[2], C[2]] ]\n",
    "    \n",
    "    delta1 = [ [D[0], B[0], C[0]],\n",
    "               [D[1], B[1], C[1]],\n",
    "               [D[2], B[2], C[2]] ]\n",
    "    \n",
    "    \n",
    "    delta2 = [ [A[0], D[0], C[0]],\n",
    "               [A[1], D[1], C[1]],\n",
    "               [A[2], D[2], C[2]] ]\n",
    "    \n",
    "    delta3 = [ [A[0], B[0], D[0]],\n",
    "               [A[1], B[1], D[1]],\n",
    "               [A[2], B[2], D[2]] ]\n",
    "    \n",
    "    delta_det = la.det(delta)\n",
    "    delta1_det = la.det(delta1)\n",
    "    delta2_det = la.det(delta2)\n",
    "    delta3_det = la.det(delta3)\n",
    "    \n",
    "    lambda1 = delta1_det/delta_det\n",
    "    lambda2 = delta2_det/delta_det\n",
    "    lambda3 = delta3_det/delta_det\n",
    "    \n",
    "    \n",
    "    P = [[lambda1*x for x in A],\n",
    "         [lambda2*x for x in B],\n",
    "         [lambda3*x for x in C]]\n",
    "    \n",
    "    \n",
    "    return np.transpose(P)\n",
    "\n",
    "def naive_algorithm(points, points_proj):\n",
    "    P1 = naive_algorithm_canon(points)\n",
    "    P2 = naive_algorithm_canon(points_proj)\n",
    "\n",
    "    P1_inv = la.inv(P1)\n",
    "    P = np.matmul(P2, P1_inv)\n",
    "    \n",
    "    return P"
   ]
  },
  {
   "cell_type": "markdown",
   "metadata": {},
   "source": [
    "### Testiranje naivnog algoritma na test primeru iz zadatka"
   ]
  },
  {
   "cell_type": "code",
   "execution_count": 67,
   "metadata": {},
   "outputs": [
    {
     "name": "stdout",
     "output_type": "stream",
     "text": [
      "Unesite koordinate originalne tacke 1 :\n"
     ]
    },
    {
     "name": "stdin",
     "output_type": "stream",
     "text": [
      " -3\n",
      " -1\n",
      " 1\n"
     ]
    },
    {
     "name": "stdout",
     "output_type": "stream",
     "text": [
      "Unesite koordinate originalne tacke 2 :\n"
     ]
    },
    {
     "name": "stdin",
     "output_type": "stream",
     "text": [
      " 3\n",
      " -1\n",
      " 1\n"
     ]
    },
    {
     "name": "stdout",
     "output_type": "stream",
     "text": [
      "Unesite koordinate originalne tacke 3 :\n"
     ]
    },
    {
     "name": "stdin",
     "output_type": "stream",
     "text": [
      " 1\n",
      " 1\n",
      " 1\n"
     ]
    },
    {
     "name": "stdout",
     "output_type": "stream",
     "text": [
      "Unesite koordinate originalne tacke 4 :\n"
     ]
    },
    {
     "name": "stdin",
     "output_type": "stream",
     "text": [
      " -1\n",
      " 1\n",
      " 1\n"
     ]
    },
    {
     "name": "stdout",
     "output_type": "stream",
     "text": [
      "Unesite koordinate tacke slike 1\n"
     ]
    },
    {
     "name": "stdin",
     "output_type": "stream",
     "text": [
      " -2\n",
      " -1\n",
      " 1\n"
     ]
    },
    {
     "name": "stdout",
     "output_type": "stream",
     "text": [
      "Unesite koordinate tacke slike 2\n"
     ]
    },
    {
     "name": "stdin",
     "output_type": "stream",
     "text": [
      " 2\n",
      " -1\n",
      " 1\n"
     ]
    },
    {
     "name": "stdout",
     "output_type": "stream",
     "text": [
      "Unesite koordinate tacke slike 3\n"
     ]
    },
    {
     "name": "stdin",
     "output_type": "stream",
     "text": [
      " 2\n",
      " 1\n",
      " 1\n"
     ]
    },
    {
     "name": "stdout",
     "output_type": "stream",
     "text": [
      "Unesite koordinate tacke slike 4\n"
     ]
    },
    {
     "name": "stdin",
     "output_type": "stream",
     "text": [
      " -2\n",
      " 1\n",
      " 1\n"
     ]
    }
   ],
   "source": [
    "n = 4\n",
    "points = []\n",
    "for i in range(n):\n",
    "    print('Unesite koordinate originalne tacke', i+1, ':')\n",
    "    a1 = int(input())\n",
    "    a2 = int(input())\n",
    "    a3 = int(input())\n",
    "    A = [a1, a2, a3]\n",
    "    points.append(A)\n",
    "    \n",
    "points_proj = []\n",
    "for i in range(n):\n",
    "    print('Unesite koordinate tacke slike', i+1)\n",
    "    ap1 = int(input())\n",
    "    ap2 = int(input())\n",
    "    ap3 = int(input())\n",
    "    Ap = [ap1, ap2, ap3]\n",
    "    points_proj.append(Ap)\n",
    "\n",
    "P = naive_algorithm(points, points_proj)"
   ]
  },
  {
   "cell_type": "code",
   "execution_count": 68,
   "metadata": {},
   "outputs": [
    {
     "name": "stdout",
     "output_type": "stream",
     "text": [
      "Matrica preslikavanja: \n",
      "[[ 2. -0.  0.]\n",
      " [-0.  2. -1.]\n",
      " [ 0. -1.  2.]]\n"
     ]
    }
   ],
   "source": [
    "print(\"Matrica preslikavanja: \")\n",
    "print(np.around(P, 5))"
   ]
  },
  {
   "cell_type": "markdown",
   "metadata": {},
   "source": [
    "## 2. DLT algoritam"
   ]
  },
  {
   "cell_type": "code",
   "execution_count": 33,
   "metadata": {},
   "outputs": [],
   "source": [
    "def big_matrix(t1, t2):\n",
    "    M = np.matrix(\n",
    "        [ [0, 0, 0, -t2[2]*t1[0], -t2[2]*t1[1], -t2[2]*t1[2], t2[1]*t1[0], t2[1]*t1[1], t2[1]*t1[2]],\n",
    "         [t2[2]*t1[0], t2[2]*t1[1], t2[2]*t1[2], 0, 0, 0, -t2[0]*t1[0], -t2[0]*t1[1], -t2[0]*t1[2]]\n",
    "        ])\n",
    "    return M\n",
    "\n",
    "def dlt_algorithm(points, points_proj):\n",
    "    A = []\n",
    "    n = len(points)\n",
    "    for i in range(n):\n",
    "        a = big_matrix(points[i], points_proj[i])\n",
    "        \n",
    "        if(i > 0):\n",
    "            A = np.concatenate((A, a), axis = 0)\n",
    "        else:\n",
    "            A = a\n",
    "    \n",
    "    U, D, Vt = la.svd(A, full_matrices=True)\n",
    "    V = np.transpose(Vt)\n",
    "    V = V[:, -1]\n",
    "    P = V.reshape(3,3)\n",
    "    \n",
    "    return P"
   ]
  },
  {
   "cell_type": "markdown",
   "metadata": {},
   "source": [
    "### Testiranje DLT algoritma na test primeru iz zadatka"
   ]
  },
  {
   "cell_type": "code",
   "execution_count": 37,
   "metadata": {},
   "outputs": [
    {
     "name": "stdin",
     "output_type": "stream",
     "text": [
      "Unesite broj originalnih tacaka:  6\n"
     ]
    },
    {
     "name": "stdout",
     "output_type": "stream",
     "text": [
      "Unesite koordinate originalne tacke 1 : \n"
     ]
    },
    {
     "name": "stdin",
     "output_type": "stream",
     "text": [
      " -3\n",
      " -1\n",
      " 1\n"
     ]
    },
    {
     "name": "stdout",
     "output_type": "stream",
     "text": [
      "Unesite koordinate originalne tacke 2 : \n"
     ]
    },
    {
     "name": "stdin",
     "output_type": "stream",
     "text": [
      " 3\n",
      " -1\n",
      " 1\n"
     ]
    },
    {
     "name": "stdout",
     "output_type": "stream",
     "text": [
      "Unesite koordinate originalne tacke 3 : \n"
     ]
    },
    {
     "name": "stdin",
     "output_type": "stream",
     "text": [
      " 1\n",
      " 1\n",
      " 1\n"
     ]
    },
    {
     "name": "stdout",
     "output_type": "stream",
     "text": [
      "Unesite koordinate originalne tacke 4 : \n"
     ]
    },
    {
     "name": "stdin",
     "output_type": "stream",
     "text": [
      " -1\n",
      " 1\n",
      " 1\n"
     ]
    },
    {
     "name": "stdout",
     "output_type": "stream",
     "text": [
      "Unesite koordinate originalne tacke 5 : \n"
     ]
    },
    {
     "name": "stdin",
     "output_type": "stream",
     "text": [
      " 1\n",
      " 2\n",
      " 3\n"
     ]
    },
    {
     "name": "stdout",
     "output_type": "stream",
     "text": [
      "Unesite koordinate originalne tacke 6 : \n"
     ]
    },
    {
     "name": "stdin",
     "output_type": "stream",
     "text": [
      " -8\n",
      " -2\n",
      " 1\n"
     ]
    },
    {
     "name": "stdout",
     "output_type": "stream",
     "text": [
      "Unesite koordinate tacke slike 1 : \n"
     ]
    },
    {
     "name": "stdin",
     "output_type": "stream",
     "text": [
      " -2\n",
      " -1\n",
      " 1\n"
     ]
    },
    {
     "name": "stdout",
     "output_type": "stream",
     "text": [
      "Unesite koordinate tacke slike 2 : \n"
     ]
    },
    {
     "name": "stdin",
     "output_type": "stream",
     "text": [
      " 2\n",
      " -1\n",
      " 1\n"
     ]
    },
    {
     "name": "stdout",
     "output_type": "stream",
     "text": [
      "Unesite koordinate tacke slike 3 : \n"
     ]
    },
    {
     "name": "stdin",
     "output_type": "stream",
     "text": [
      " 2\n",
      " 1\n",
      " 1\n"
     ]
    },
    {
     "name": "stdout",
     "output_type": "stream",
     "text": [
      "Unesite koordinate tacke slike 4 : \n"
     ]
    },
    {
     "name": "stdin",
     "output_type": "stream",
     "text": [
      " -2\n",
      " 1\n",
      " 1\n"
     ]
    },
    {
     "name": "stdout",
     "output_type": "stream",
     "text": [
      "Unesite koordinate tacke slike 5 : \n"
     ]
    },
    {
     "name": "stdin",
     "output_type": "stream",
     "text": [
      " 2\n",
      " 1\n",
      " 4\n"
     ]
    },
    {
     "name": "stdout",
     "output_type": "stream",
     "text": [
      "Unesite koordinate tacke slike 6 : \n"
     ]
    },
    {
     "name": "stdin",
     "output_type": "stream",
     "text": [
      " -16\n",
      " -5\n",
      " 4\n"
     ]
    }
   ],
   "source": [
    "n = int(input(\"Unesite broj originalnih tacaka: \"))\n",
    "\n",
    "points = []\n",
    "for i in range(n):\n",
    "    print('Unesite koordinate originalne tacke', i+1, ': ')\n",
    "    a1 = int(input())\n",
    "    a2 = int(input())\n",
    "    a3 = int(input())\n",
    "    A = [a1, a2, a3]\n",
    "    points.append(A)\n",
    "    \n",
    "points_proj = []\n",
    "for i in range(n):\n",
    "    print('Unesite koordinate tacke slike', i+1, ': ')\n",
    "    ap1 = int(input())\n",
    "    ap2 = int(input())\n",
    "    ap3 = int(input())\n",
    "    Ap = [ap1, ap2, ap3]\n",
    "    points_proj.append(Ap)\n",
    "\n",
    "Pdlt = dlt_algorithm(points, points_proj)"
   ]
  },
  {
   "cell_type": "code",
   "execution_count": 38,
   "metadata": {},
   "outputs": [
    {
     "name": "stdout",
     "output_type": "stream",
     "text": [
      "Matrica preslikavanja: \n",
      "[[-0.53452  0.      -0.     ]\n",
      " [ 0.      -0.53452  0.26726]\n",
      " [-0.       0.26726 -0.53452]]\n"
     ]
    }
   ],
   "source": [
    "print(\"Matrica preslikavanja: \")\n",
    "print(np.around(Pdlt, 5))"
   ]
  },
  {
   "cell_type": "markdown",
   "metadata": {},
   "source": [
    "### Poređenje naivnog i DLT algoritma"
   ]
  },
  {
   "cell_type": "markdown",
   "metadata": {},
   "source": [
    "(Sa vežbi):\n",
    "Pošto smo slike poslednje 2 tačke pronašli množenjem sa matricom P, trebalo bi da se rezultati naivnog i DLT algoritma poklapaju, tj. da su matrice P i Pdlt proporcionalne (proporcionalne matrice zadaju isto projektivno preslikavanje).\n",
    "\n",
    "Ovde ćemo odmah videti da su iste, ali u slučaju da se to ne vidi, matrice poredimo tako što podelimo Pdlt matricu sa Pdlt[1][1], a zatim pomnožimo sa P[1][1]."
   ]
  },
  {
   "cell_type": "code",
   "execution_count": 45,
   "metadata": {},
   "outputs": [
    {
     "name": "stdout",
     "output_type": "stream",
     "text": [
      "P: \n",
      "[[-5.34522484e-01  1.36070498e-15 -7.98395180e-16]\n",
      " [ 1.13931579e-16 -5.34522484e-01  2.67261242e-01]\n",
      " [-1.84633342e-16  2.67261242e-01 -5.34522484e-01]]\n",
      "Pdlt: \n",
      "[[-5.34522484e-01  1.36070498e-15 -7.98395180e-16]\n",
      " [ 1.13931579e-16 -5.34522484e-01  2.67261242e-01]\n",
      " [-1.84633342e-16  2.67261242e-01 -5.34522484e-01]]\n"
     ]
    }
   ],
   "source": [
    "print('P: ')\n",
    "print(P)\n",
    "\n",
    "print('Pdlt: ')\n",
    "print(Pdlt)"
   ]
  },
  {
   "cell_type": "markdown",
   "metadata": {},
   "source": [
    "## DLT algoritam sa normalizacijom"
   ]
  },
  {
   "cell_type": "code",
   "execution_count": 56,
   "metadata": {},
   "outputs": [],
   "source": [
    "def normalize(points):\n",
    "    # CMS - center of mass (teziste)\n",
    "    CMS = []\n",
    "    affine_points = []\n",
    "    n = len(points)\n",
    "    for i in range(n):\n",
    "        A = np.array(points[i])\n",
    "        A = np.array([A[0]/A[2], A[1]/A[2]])\n",
    "        affine_points.append(A)\n",
    "        if(i > 0):\n",
    "            CMS += A\n",
    "        else:\n",
    "            CMS = A\n",
    "    CMS = CMS * np.array([1/n, 1/n])\n",
    "    \n",
    "    # Translacija\n",
    "    T = np.matrix([ [1, 0, -CMS[0]],\n",
    "                    [0, 1, -CMS[1]],\n",
    "                    [0, 0, 1] ])\n",
    "    \n",
    "    # Homotetija\n",
    "    lamb = 0\n",
    "    for i in range(n):\n",
    "        A = affine_points[i] \n",
    "        lamb += math.sqrt(A[0]*A[0] + A[1]*A[1])\n",
    "    lamb = lamb / n\n",
    "    \n",
    "    h = math.sqrt(2) / lamb\n",
    "    H = np.matrix([[h, 0, 0],\n",
    "                   [0, h, 0],\n",
    "                   [0, 0, 1]\n",
    "                   ])\n",
    "    \n",
    "    # Matrica normalizacije\n",
    "    N = np.matmul(H, T)\n",
    "    return N\n",
    "\n",
    "def dlt_normalize(points, points_proj):    \n",
    "    T_matrix = normalize(points) \n",
    "    Tp_matrix = normalize(points_proj) \n",
    "    \n",
    "    T_matrix = np.array(T_matrix).reshape((3,3))\n",
    "    Tp_matrix = np.array(Tp_matrix).reshape((3,3))\n",
    "  \n",
    "    points = np.transpose(points)\n",
    "    points_proj = np.transpose(points_proj)\n",
    "    \n",
    "    M_nadvuceno = T_matrix.dot(points) \n",
    "    Mp_nadvuceno = Tp_matrix.dot(points_proj) \n",
    "    \n",
    "    M_nadvuceno = np.transpose(M_nadvuceno) \n",
    "    Mp_nadvuceno = np.transpose(Mp_nadvuceno) \n",
    "    dlt_matrix = dlt_algorithm(M_nadvuceno, Mp_nadvuceno) \n",
    "    \n",
    "    dlt_matrix = np.array(dlt_matrix).reshape((3, 3))\n",
    "\n",
    "    result = (np.linalg.inv(Tp_matrix)).dot(dlt_matrix).dot(T_matrix)\n",
    "    return result"
   ]
  },
  {
   "cell_type": "markdown",
   "metadata": {},
   "source": [
    "### Testiranje DLT algoritma sa normalizacijom"
   ]
  },
  {
   "cell_type": "code",
   "execution_count": 57,
   "metadata": {},
   "outputs": [
    {
     "name": "stdin",
     "output_type": "stream",
     "text": [
      "Unesite broj originalnih tacaka:  6\n"
     ]
    },
    {
     "name": "stdout",
     "output_type": "stream",
     "text": [
      "Unesite koordinate originalne tacke 1 : \n"
     ]
    },
    {
     "name": "stdin",
     "output_type": "stream",
     "text": [
      " -3\n",
      " -1\n",
      " 1\n"
     ]
    },
    {
     "name": "stdout",
     "output_type": "stream",
     "text": [
      "Unesite koordinate originalne tacke 2 : \n"
     ]
    },
    {
     "name": "stdin",
     "output_type": "stream",
     "text": [
      " 3\n",
      " -1\n",
      " 1\n"
     ]
    },
    {
     "name": "stdout",
     "output_type": "stream",
     "text": [
      "Unesite koordinate originalne tacke 3 : \n"
     ]
    },
    {
     "name": "stdin",
     "output_type": "stream",
     "text": [
      " 1\n",
      " 1\n",
      " 1\n"
     ]
    },
    {
     "name": "stdout",
     "output_type": "stream",
     "text": [
      "Unesite koordinate originalne tacke 4 : \n"
     ]
    },
    {
     "name": "stdin",
     "output_type": "stream",
     "text": [
      " -1\n",
      " 1\n",
      " 1\n"
     ]
    },
    {
     "name": "stdout",
     "output_type": "stream",
     "text": [
      "Unesite koordinate originalne tacke 5 : \n"
     ]
    },
    {
     "name": "stdin",
     "output_type": "stream",
     "text": [
      " 1\n",
      " 2\n",
      " 3\n"
     ]
    },
    {
     "name": "stdout",
     "output_type": "stream",
     "text": [
      "Unesite koordinate originalne tacke 6 : \n"
     ]
    },
    {
     "name": "stdin",
     "output_type": "stream",
     "text": [
      " -8\n",
      " -2\n",
      " 1\n"
     ]
    },
    {
     "name": "stdout",
     "output_type": "stream",
     "text": [
      "Unesite koordinate tacke slike 1 : \n"
     ]
    },
    {
     "name": "stdin",
     "output_type": "stream",
     "text": [
      " -2\n",
      " -1\n",
      " 1\n"
     ]
    },
    {
     "name": "stdout",
     "output_type": "stream",
     "text": [
      "Unesite koordinate tacke slike 2 : \n"
     ]
    },
    {
     "name": "stdin",
     "output_type": "stream",
     "text": [
      " 2\n",
      " -1\n",
      " 1\n"
     ]
    },
    {
     "name": "stdout",
     "output_type": "stream",
     "text": [
      "Unesite koordinate tacke slike 3 : \n"
     ]
    },
    {
     "name": "stdin",
     "output_type": "stream",
     "text": [
      " 2\n",
      " 1\n",
      " 1\n"
     ]
    },
    {
     "name": "stdout",
     "output_type": "stream",
     "text": [
      "Unesite koordinate tacke slike 4 : \n"
     ]
    },
    {
     "name": "stdin",
     "output_type": "stream",
     "text": [
      " -2\n",
      " 1\n",
      " 1\n"
     ]
    },
    {
     "name": "stdout",
     "output_type": "stream",
     "text": [
      "Unesite koordinate tacke slike 5 : \n"
     ]
    },
    {
     "name": "stdin",
     "output_type": "stream",
     "text": [
      " 2\n",
      " 1\n",
      " 4\n"
     ]
    },
    {
     "name": "stdout",
     "output_type": "stream",
     "text": [
      "Unesite koordinate tacke slike 6 : \n"
     ]
    },
    {
     "name": "stdin",
     "output_type": "stream",
     "text": [
      " -16\n",
      " -5\n",
      " 4\n"
     ]
    }
   ],
   "source": [
    "# Unos podataka\n",
    "n = int(input(\"Unesite broj originalnih tacaka: \"))\n",
    "points = []\n",
    "for i in range(n):\n",
    "    print('Unesite koordinate originalne tacke', i+1, ': ')\n",
    "    a1 = int(input())\n",
    "    a2 = int(input())\n",
    "    a3 = int(input())\n",
    "    A = [a1, a2, a3]\n",
    "    points.append(A)\n",
    "\n",
    "points_proj = []\n",
    "for i in range(n):\n",
    "    print('Unesite koordinate tacke slike', i+1, ': ')\n",
    "    ap1 = int(input())\n",
    "    ap2 = int(input())\n",
    "    ap3 = int(input())\n",
    "    Ap = [ap1, ap2, ap3]\n",
    "    points_proj.append(Ap)\n",
    "\n",
    "Pndlt = dlt_normalize(points, points_proj)"
   ]
  },
  {
   "cell_type": "code",
   "execution_count": 59,
   "metadata": {},
   "outputs": [
    {
     "name": "stdout",
     "output_type": "stream",
     "text": [
      "Matrica preslikavanja: \n",
      "[[ 0.36209 -0.       0.     ]\n",
      " [-0.       0.36209 -0.18105]\n",
      " [ 0.      -0.18105  0.36209]]\n"
     ]
    }
   ],
   "source": [
    "print(\"Matrica preslikavanja: \")\n",
    "print(np.around(Pndlt, 5))"
   ]
  },
  {
   "cell_type": "markdown",
   "metadata": {},
   "source": [
    "## Celokupno testiranje sa tačkama iz fajla primer3.nb.pdf"
   ]
  },
  {
   "cell_type": "code",
   "execution_count": 62,
   "metadata": {},
   "outputs": [],
   "source": [
    "a = [-3, 2, 1]\n",
    "b = [-2, 5, 2]\n",
    "c = [1, 0, 3]\n",
    "d = [-7, 3, 1]\n",
    "e = [2, 1, 2]\n",
    "f = [-1, 2, 1]\n",
    "g = [1, 1, 1]\n",
    "\n",
    "ap = [11, -12, 7]\n",
    "bp = [25, -8, 9]\n",
    "cp = [15, 4, 17]\n",
    "dp = [14, -28, 10]\n",
    "ep = [13, 8, 9]\n",
    "fp = [11, -4, 5]\n",
    "gp = [8.02, 4, 4]"
   ]
  },
  {
   "cell_type": "code",
   "execution_count": 82,
   "metadata": {},
   "outputs": [
    {
     "name": "stdout",
     "output_type": "stream",
     "text": [
      "Matrica proj preslikavanja za naivni alg. za [a,b,c,d]: \n",
      "[[ 0.  3.  5.]\n",
      " [ 4. -0.  0.]\n",
      " [-1. -1.  6.]]\n",
      "Matrica proj preslikavanja za naivni alg. za [a,b,e,d]: \n",
      "[[ 0.  3.  5.]\n",
      " [ 4. -0.  0.]\n",
      " [-1. -1.  6.]]\n"
     ]
    }
   ],
   "source": [
    "# Testiranje naivnog algoritma\n",
    "P1 = naive_algorithm([a,b,c,d], [ap, bp, cp, dp])\n",
    "print('Matrica proj preslikavanja za naivni alg. za [a,b,c,d]: ')\n",
    "print(np.around(P1, 3))\n",
    "\n",
    "P2 = naive_algorithm([a,b,e,d], [ap, bp, ep, dp])\n",
    "print('Matrica proj preslikavanja za naivni alg. za [a,b,e,d]: ')\n",
    "print(np.around(P2, 3))"
   ]
  },
  {
   "cell_type": "code",
   "execution_count": 129,
   "metadata": {},
   "outputs": [
    {
     "name": "stdout",
     "output_type": "stream",
     "text": [
      "Matrica proj preslikavanja za DLT alg: \n",
      "[[ 0.     0.32   0.533]\n",
      " [ 0.426 -0.    -0.   ]\n",
      " [-0.107 -0.107  0.64 ]]\n",
      "\n",
      "[[ 4.97352886e-04  3.00000000e+00  4.99603472e+00]\n",
      " [ 3.99778538e+00 -1.89543630e-04 -2.76689017e-04]\n",
      " [-9.99295809e-01 -9.98580867e-01  5.99549835e+00]]\n"
     ]
    }
   ],
   "source": [
    "# Testiranje DLT algoritma\n",
    "Pdlt_test = dlt_algorithm([a,b,c,d,e,f,g], [ap,bp,cp,dp,ep,fp,gp])\n",
    "print('Matrica proj preslikavanja za DLT alg: ')\n",
    "print(np.around(Pdlt_test, 3))\n",
    "\n",
    "print()\n",
    "m = Pdlt_test * 3 / Pdlt_test[0,1]\n",
    "print(m)"
   ]
  },
  {
   "cell_type": "code",
   "execution_count": 86,
   "metadata": {},
   "outputs": [
    {
     "name": "stdout",
     "output_type": "stream",
     "text": [
      "Matrica proj preslikavanja za modifikovani DLT alg: \n",
      "[[ 0.     0.32   0.533]\n",
      " [ 0.426 -0.    -0.   ]\n",
      " [-0.107 -0.107  0.64 ]]\n"
     ]
    }
   ],
   "source": [
    "# Testiranje modifikovanog DLT algoritma\n",
    "Pndlt_test = dlt_normalize([a,b,c,d,e,f,g], [ap,bp,cp,dp,ep,fp,gp])\n",
    "print('Matrica proj preslikavanja za modifikovani DLT alg: ')\n",
    "print(np.around(Pdlt_test, 3))"
   ]
  },
  {
   "cell_type": "code",
   "execution_count": 114,
   "metadata": {},
   "outputs": [],
   "source": [
    "# Testiranje invarijantnosti DLT u odnosu na promenu coord\n",
    "cc = [[0,1,2], [-1, 0, 3], [0,0,1]]\n",
    "points = [a,b,c,d,e,f,g]\n",
    "points_proj = [ap,bp,cp,dp,ep,fp,gp]\n",
    "n = len(points)\n",
    "\n",
    "norig = [list(np.matmul(cc,v)) for v in points]\n",
    "nslike = [list(np.matmul(cc,v)) for v in points_proj]"
   ]
  },
  {
   "cell_type": "code",
   "execution_count": 115,
   "metadata": {},
   "outputs": [
    {
     "name": "stdout",
     "output_type": "stream",
     "text": [
      "[[4, 6, 1], [9, 8, 2], [6, 8, 3], [5, 10, 1], [5, 4, 2], [4, 4, 1], [3, 2, 1]]\n",
      "[[2, 10, 7], [10, 2, 9], [38, 36, 17], [-8, 16, 10], [26, 14, 9], [6, 4, 5], [12.0, 3.9800000000000004, 4.0]]\n"
     ]
    }
   ],
   "source": [
    "print(norig)\n",
    "print(nslike)"
   ]
  },
  {
   "cell_type": "code",
   "execution_count": 132,
   "metadata": {},
   "outputs": [
    {
     "name": "stdout",
     "output_type": "stream",
     "text": [
      "Matrica preslikavanja za izmenjene koo: \n",
      "[[ 4.96620099e-04  3.00000000e+00  4.99604404e+00]\n",
      " [ 3.99779004e+00 -1.89349457e-04 -2.75649443e-04]\n",
      " [-9.99297373e-01 -9.98584504e-01  5.99550913e+00]]\n",
      "Originalna matrica preslikavanja: \n",
      "[[ 4.97352886e-04  3.00000000e+00  4.99603472e+00]\n",
      " [ 3.99778538e+00 -1.89543630e-04 -2.76689017e-04]\n",
      " [-9.99295809e-01 -9.98580867e-01  5.99549835e+00]]\n"
     ]
    }
   ],
   "source": [
    "# Prvo odredimo matricu preslikavanja u novom koo sistemu\n",
    "m1 = dlt_algorithm(norig, nslike)\n",
    "# Vratimo u stari koo sistem, i dobijamo matricu preslikavanja u starom\n",
    "# koo sistemu\n",
    "m1s = np.matmul(la.inv(cc), np.matmul(m1, cc))\n",
    "nm1 = m1s * 3 / m1s[0,1]\n",
    "\n",
    "print('Matrica preslikavanja za izmenjene koo: ')\n",
    "print(nm1)\n",
    "\n",
    "print('Originalna matrica preslikavanja: ')\n",
    "print(m)"
   ]
  },
  {
   "cell_type": "markdown",
   "metadata": {},
   "source": [
    "Vidimo da se matrica razlikuje malo od pocetne, pa zato DLT nije invarijantan u odnosu na promenu koo."
   ]
  },
  {
   "cell_type": "code",
   "execution_count": 133,
   "metadata": {},
   "outputs": [
    {
     "name": "stdout",
     "output_type": "stream",
     "text": [
      "Matrica preslikavanja za izmenjene koo: \n",
      "[[ 4.96727994e-04  3.00000000e+00  4.99603778e+00]\n",
      " [ 3.99778791e+00 -1.89007930e-04 -2.76811706e-04]\n",
      " [-9.99296756e-01 -9.98582323e-01  5.99550206e+00]]\n",
      "Originalna matrica preslikavanja: \n",
      "[[ 4.97352886e-04  3.00000000e+00  4.99603472e+00]\n",
      " [ 3.99778538e+00 -1.89543630e-04 -2.76689017e-04]\n",
      " [-9.99295809e-01 -9.98580867e-01  5.99549835e+00]]\n"
     ]
    }
   ],
   "source": [
    "# Testiranje invarijantnosti normalizovanog DLT u odnosu na promenu coord\n",
    "cc = [[0,1,2], [-1, 0, 3], [0,0,1]]\n",
    "points = [a,b,c,d,e,f,g]\n",
    "points_proj = [ap,bp,cp,dp,ep,fp,gp]\n",
    "n = len(points)\n",
    "\n",
    "norig = [list(np.matmul(cc,v)) for v in points]\n",
    "nslike = [list(np.matmul(cc,v)) for v in points_proj]\n",
    "\n",
    "# Prvo odredimo matricu preslikavanja u novom koo sistemu\n",
    "m2 = dlt_normalize(norig, nslike)\n",
    "# Vratimo u stari koo sistem, i dobijamo matricu preslikavanja u starom\n",
    "# koo sistemu\n",
    "m2s = np.matmul(la.inv(cc), np.matmul(m2, cc))\n",
    "nm2 = m2s * 3 / m2s[0,1]\n",
    "\n",
    "print('Matrica preslikavanja za izmenjene koo: ')\n",
    "print(nm2)\n",
    "\n",
    "print('Originalna matrica preslikavanja: ')\n",
    "print(m)"
   ]
  },
  {
   "cell_type": "markdown",
   "metadata": {},
   "source": [
    "(Nisu potpuno iste, ali moguce da se ovo izgubilo u zaokruzivanju posto su razlike na visokim decimalama). Iz ovoga mozemo zakljuciti da je normalizovani DLT invarijantan na promenu koo."
   ]
  },
  {
   "cell_type": "code",
   "execution_count": null,
   "metadata": {},
   "outputs": [],
   "source": []
  }
 ],
 "metadata": {
  "kernelspec": {
   "display_name": "Python 3",
   "language": "python",
   "name": "python3"
  },
  "language_info": {
   "codemirror_mode": {
    "name": "ipython",
    "version": 3
   },
   "file_extension": ".py",
   "mimetype": "text/x-python",
   "name": "python",
   "nbconvert_exporter": "python",
   "pygments_lexer": "ipython3",
   "version": "3.8.3"
  }
 },
 "nbformat": 4,
 "nbformat_minor": 4
}
