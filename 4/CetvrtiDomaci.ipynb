{
 "cells": [
  {
   "cell_type": "markdown",
   "metadata": {},
   "source": [
    "# Parametri kamere"
   ]
  },
  {
   "cell_type": "code",
   "execution_count": 41,
   "metadata": {},
   "outputs": [],
   "source": [
    "import numpy as np\n",
    "import numpy.linalg as la"
   ]
  },
  {
   "cell_type": "code",
   "execution_count": 42,
   "metadata": {},
   "outputs": [],
   "source": [
    "def normalize(x):\n",
    "    return np.array([x[0] / x[3], x[1] / x[3], x[2] / x[3]])\n",
    "\n",
    "modified_indices = []\n",
    "\n",
    "def parametri_kamere(T):\n",
    "    T0 = np.delete(T, 3, 1)\n",
    "\n",
    "    if la.det(T0) < 0:\n",
    "        T = -T\n",
    "\n",
    "    T0 = np.delete(T, 3, 1)\n",
    "    c1 = np.delete(T, 0, 1)\n",
    "    c2 = np.delete(T, 1, 1)\n",
    "    c3 = np.delete(T, 2, 1)\n",
    "    T0C = np.array(T[:, 3])\n",
    "    \n",
    "    C = normalize(\n",
    "        np.array(\n",
    "            [\n",
    "                la.det(c1),\n",
    "                -1 * la.det(c2),\n",
    "                la.det(c3),\n",
    "                -1 * la.det(T0)\n",
    "            ]\n",
    "        )\n",
    "    )\n",
    "    C = np.round(C, 4)\n",
    "\n",
    "    Q, R = la.qr(la.inv(T0))\n",
    "    \n",
    "    for i in range(R.shape[0]):\n",
    "        if R[i, i] < 0:\n",
    "            modified_indices.append(i)\n",
    "            R[i, :] = R[i, :] * -1\n",
    "            Q[:, i] = Q[:, i] * -1\n",
    "\n",
    "    K = la.inv(R)\n",
    "    K = K / K[2, 2]\n",
    "    K = np.round(K, 4)\n",
    "\n",
    "    A = la.inv(Q)\n",
    "    A = np.round(A, 4)\n",
    "\n",
    "    return K, A, C"
   ]
  },
  {
   "cell_type": "markdown",
   "metadata": {},
   "source": [
    "#### Testiranje funkcije ParametriKamere(T) na zadatom primeru (n=11)"
   ]
  },
  {
   "cell_type": "code",
   "execution_count": 43,
   "metadata": {},
   "outputs": [],
   "source": [
    "testT = np.array([\n",
    "    [5, -1-2*11, 3., 18-3*11],\n",
    "    [0., -1, 5., 21.],\n",
    "    [0., -1., 0., 1.]\n",
    "])\n",
    "K, A, C = parametri_kamere(testT)"
   ]
  },
  {
   "cell_type": "code",
   "execution_count": 26,
   "metadata": {},
   "outputs": [
    {
     "name": "stdout",
     "output_type": "stream",
     "text": [
      "Matrica T koju smo koristili u zadatku (n=11)\n",
      "[[  5. -23.   3. -15.]\n",
      " [  0.  -1.   5.  21.]\n",
      " [  0.  -1.   0.   1.]]\n"
     ]
    }
   ],
   "source": [
    "print(\"Matrica T koju smo koristili u zadatku (n=11)\")\n",
    "print(testT)"
   ]
  },
  {
   "cell_type": "code",
   "execution_count": 27,
   "metadata": {},
   "outputs": [
    {
     "name": "stdout",
     "output_type": "stream",
     "text": [
      "Matrica K (kalibracija)\n",
      "[[ 5.  3. 23.]\n",
      " [ 0.  5.  1.]\n",
      " [ 0.  0.  1.]]\n"
     ]
    }
   ],
   "source": [
    "print(\"Matrica K (kalibracija)\")\n",
    "print(K)"
   ]
  },
  {
   "cell_type": "code",
   "execution_count": 28,
   "metadata": {},
   "outputs": [
    {
     "name": "stdout",
     "output_type": "stream",
     "text": [
      "Matrica A (orijentacija)\n",
      "[[ 1.  0.  0.]\n",
      " [ 0.  0.  1.]\n",
      " [-0. -1.  0.]]\n"
     ]
    }
   ],
   "source": [
    "print(\"Matrica A (orijentacija)\")\n",
    "print(A)"
   ]
  },
  {
   "cell_type": "code",
   "execution_count": 29,
   "metadata": {},
   "outputs": [
    {
     "name": "stdout",
     "output_type": "stream",
     "text": [
      "Matrica C (centar projektovanja)\n",
      "[10.  1. -4.]\n"
     ]
    }
   ],
   "source": [
    "print(\"Matrica C (centar projektovanja)\")\n",
    "print(C)"
   ]
  },
  {
   "cell_type": "markdown",
   "metadata": {},
   "source": [
    "#### Testiranje funkcije ParametriKamere(T) sa poslednjom cifrom indeksa (n=7 -> 057/2016)"
   ]
  },
  {
   "cell_type": "code",
   "execution_count": 30,
   "metadata": {},
   "outputs": [],
   "source": [
    "myT = np.array([\n",
    "    [5, -1-2*7, 3., 18-3*7],\n",
    "    [0., -1, 5., 21.],\n",
    "    [0., -1., 0., 1.]\n",
    "])\n",
    "K, A, C = parametri_kamere(myT)"
   ]
  },
  {
   "cell_type": "code",
   "execution_count": 31,
   "metadata": {},
   "outputs": [
    {
     "name": "stdout",
     "output_type": "stream",
     "text": [
      "Matrica T:\n",
      "[[  5. -15.   3.  -3.]\n",
      " [  0.  -1.   5.  21.]\n",
      " [  0.  -1.   0.   1.]]\n"
     ]
    }
   ],
   "source": [
    "print(\"Matrica T:\")\n",
    "print(myT)"
   ]
  },
  {
   "cell_type": "code",
   "execution_count": 32,
   "metadata": {},
   "outputs": [
    {
     "name": "stdout",
     "output_type": "stream",
     "text": [
      "Matrica K (kalibracija)\n",
      "[[ 5.  3. 15.]\n",
      " [ 0.  5.  1.]\n",
      " [ 0.  0.  1.]]\n"
     ]
    }
   ],
   "source": [
    "print(\"Matrica K (kalibracija)\")\n",
    "print(K)"
   ]
  },
  {
   "cell_type": "code",
   "execution_count": 33,
   "metadata": {},
   "outputs": [
    {
     "name": "stdout",
     "output_type": "stream",
     "text": [
      "Matrica A (orijentacija)\n",
      "[[ 1.  0.  0.]\n",
      " [ 0.  0.  1.]\n",
      " [-0. -1.  0.]]\n"
     ]
    }
   ],
   "source": [
    "print(\"Matrica A (orijentacija)\")\n",
    "print(A)"
   ]
  },
  {
   "cell_type": "code",
   "execution_count": 34,
   "metadata": {},
   "outputs": [
    {
     "name": "stdout",
     "output_type": "stream",
     "text": [
      "Matrica C (centar projektovanja)\n",
      "[ 6.  1. -4.]\n"
     ]
    }
   ],
   "source": [
    "print(\"Matrica C (centar projektovanja)\")\n",
    "print(C)"
   ]
  },
  {
   "cell_type": "markdown",
   "metadata": {},
   "source": [
    "# CameraDLP"
   ]
  },
  {
   "cell_type": "code",
   "execution_count": 40,
   "metadata": {},
   "outputs": [],
   "source": [
    "def big_matrix(original, projekcija):\n",
    "    mat1 = np.concatenate([\n",
    "        [0, 0, 0, 0],\n",
    "        -projekcija[2] * original.T,\n",
    "        projekcija[1] * original.T\n",
    "    ])\n",
    "    mat2 = np.concatenate([\n",
    "        projekcija[2] * original.T,\n",
    "        [0, 0, 0, 0],\n",
    "        projekcija[0] * original.T\n",
    "    ])\n",
    "    matrix = np.array([mat1, mat2])\n",
    "\n",
    "    return matrix\n",
    "\n",
    "def camera_dlp(originali, projekcije):\n",
    "    C = big_matrix(originali[0], projekcije[0])\n",
    "\n",
    "    for i, tacka in enumerate(originali):\n",
    "        if i == 0:\n",
    "            continue\n",
    "        N = big_matrix(originali[i], projekcije[i])\n",
    "        C = np.concatenate((C, N))\n",
    "\n",
    "    _, _, V_t = la.svd(C)\n",
    "    V = np.transpose(V_t)\n",
    "\n",
    "    P = V[:, -1]\n",
    "    P = P.reshape(3, 4)\n",
    "\n",
    "    size = P.shape[0]\n",
    "    for i in modified_indices:\n",
    "        P[size-1-i,:] = -P[size-1-i,:]\n",
    "\n",
    "    P = P/P[0,0]\n",
    "    return P"
   ]
  },
  {
   "cell_type": "markdown",
   "metadata": {},
   "source": [
    "#### Testiranje funkcije CameraDLP za primer iz zadatka (n=11):"
   ]
  },
  {
   "cell_type": "code",
   "execution_count": 36,
   "metadata": {},
   "outputs": [],
   "source": [
    "testM1 = [460, 280, 250, 1]\n",
    "testM2 = [50, 380, 350, 1]\n",
    "testM3 = [470, 500, 100, 1]\n",
    "testM4 = [380, 630, 50*11, 1]\n",
    "testM5 = [30*11, 290, 0, 1]\n",
    "testM6 = [580, 0, 130, 1]\n",
    "\n",
    "M1p = [288., 251., 1.]\n",
    "M2p = [79., 510., 1.]\n",
    "M3p = [470., 440., 1.]\n",
    "M4p = [520., 590., 1.]\n",
    "M5p = [365, 388., 1.]\n",
    "M6p = [365., 20., 1.]\n",
    "\n",
    "testOriginali = np.array([testM1, testM2, testM3, testM4, testM5, testM6])\n",
    "projekcije = np.array([M1p, M2p, M3p, M4p, M5p, M6p])\n",
    "\n",
    "testRez = camera_dlp(testOriginali, projekcije)"
   ]
  },
  {
   "cell_type": "code",
   "execution_count": 37,
   "metadata": {},
   "outputs": [
    {
     "name": "stdout",
     "output_type": "stream",
     "text": [
      "Matrica kamere:\n",
      "[[ 1.00000000e+00 -1.09800191e+01  3.39560022e+01 -9.69203171e+03]\n",
      " [-2.67403824e+01  1.07542580e+01 -3.42971417e+01  2.03282746e+04]\n",
      " [-4.16755327e-02  7.29987634e-03 -7.21774501e-02  4.68368890e+01]]\n"
     ]
    }
   ],
   "source": [
    "print(\"Matrica kamere:\")\n",
    "print(testRez)"
   ]
  },
  {
   "cell_type": "markdown",
   "metadata": {},
   "source": [
    "#### Testiranje funkcije ParametriKamere(T) sa poslednjom cifrom indeksa (n=7 -> 057/2016)"
   ]
  },
  {
   "cell_type": "code",
   "execution_count": 38,
   "metadata": {},
   "outputs": [],
   "source": [
    "myM1 = [460, 280, 250, 1]\n",
    "myM2 = [50, 380, 350, 1]\n",
    "myM3 = [470, 500, 100, 1]\n",
    "myM4 = [380, 630, 50*7, 1]\n",
    "myM5 = [30*7, 290, 0, 1]\n",
    "myM6 = [580, 0, 130, 1]\n",
    "\n",
    "myOriginali = np.array([myM1, myM2, myM3, myM4, myM5, myM6])\n",
    "myRez = camera_dlp(myOriginali, projekcije)"
   ]
  },
  {
   "cell_type": "code",
   "execution_count": 39,
   "metadata": {},
   "outputs": [
    {
     "name": "stdout",
     "output_type": "stream",
     "text": [
      "Matrica kamere:\n",
      "[[ 1.00000000e+00 -2.42052067e+00  7.20398866e+00 -1.79202378e+03]\n",
      " [-2.69787692e+00  2.22875733e+00 -6.40773760e+00  2.40551107e+03]\n",
      " [-5.93886249e-03  3.86007422e-03 -1.63340689e-02  6.36125898e+00]]\n"
     ]
    }
   ],
   "source": [
    "print(\"Matrica kamere:\")\n",
    "print(myRez)"
   ]
  },
  {
   "cell_type": "code",
   "execution_count": null,
   "metadata": {},
   "outputs": [],
   "source": []
  },
  {
   "cell_type": "code",
   "execution_count": null,
   "metadata": {},
   "outputs": [],
   "source": []
  }
 ],
 "metadata": {
  "kernelspec": {
   "display_name": "Python 3",
   "language": "python",
   "name": "python3"
  },
  "language_info": {
   "codemirror_mode": {
    "name": "ipython",
    "version": 3
   },
   "file_extension": ".py",
   "mimetype": "text/x-python",
   "name": "python",
   "nbconvert_exporter": "python",
   "pygments_lexer": "ipython3",
   "version": "3.8.3"
  }
 },
 "nbformat": 4,
 "nbformat_minor": 4
}
