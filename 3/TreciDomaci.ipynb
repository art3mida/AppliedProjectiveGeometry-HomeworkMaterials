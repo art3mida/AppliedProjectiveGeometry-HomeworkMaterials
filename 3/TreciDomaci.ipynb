{
 "cells": [
  {
   "cell_type": "markdown",
   "metadata": {},
   "source": [
    "# Domaci 3 - izometrije"
   ]
  },
  {
   "cell_type": "code",
   "execution_count": 43,
   "metadata": {},
   "outputs": [],
   "source": [
    "import sys\n",
    "import math\n",
    "import numpy as np\n",
    "import numpy.linalg as LA"
   ]
  },
  {
   "cell_type": "markdown",
   "metadata": {},
   "source": [
    "#### Matrice rotacije oko svake od osa:"
   ]
  },
  {
   "cell_type": "code",
   "execution_count": 44,
   "metadata": {},
   "outputs": [],
   "source": [
    "def R_x(angle):\n",
    "    return np.array([\n",
    "        [1,               0,                0],\n",
    "        [0, math.cos(angle), -math.sin(angle)],\n",
    "        [0, math.sin(angle),  math.cos(angle)]\n",
    "    ])\n",
    "\n",
    "def R_y(angle):\n",
    "    return np.array([\n",
    "        [ math.cos(angle), 0, math.sin(angle)],\n",
    "        [               0, 1,               0],\n",
    "        [-math.sin(angle), 0, math.cos(angle)]\n",
    "    ])\n",
    "\n",
    "def R_z(angle):\n",
    "    return np.array([\n",
    "        [math.cos(angle), -math.sin(angle), 0],\n",
    "        [math.sin(angle),  math.cos(angle), 0],\n",
    "        [              0,                0, 1]\n",
    "    ])"
   ]
  },
  {
   "cell_type": "markdown",
   "metadata": {},
   "source": [
    "### Euler2A\n",
    "\n",
    "- Euler2A[φ, θ, ψ] - vraca matricu A = RZ(ψ) @ RY(θ) @ RX(φ).\n",
    "- @ oznacava matricno mnozenje (ekvivalnetno funkciji np.matmull)"
   ]
  },
  {
   "cell_type": "code",
   "execution_count": 45,
   "metadata": {},
   "outputs": [],
   "source": [
    "def euler2a(phi, theta, psi):\n",
    "    Rx = R_x(phi)\n",
    "    Ry = R_y(theta)\n",
    "    Rz = R_z(psi)\n",
    "    return (Rz @ Ry) @ Rx"
   ]
  },
  {
   "cell_type": "markdown",
   "metadata": {},
   "source": [
    "### AxisAngle\n",
    "\n",
    "AxisAngle[A] - vraca jedinicni vektor p = (px, py, pz) i ugao φ ∈ [0, π]\n",
    "tako da A = Rp(φ)."
   ]
  },
  {
   "cell_type": "code",
   "execution_count": 46,
   "metadata": {},
   "outputs": [],
   "source": [
    "def normalize(v):\n",
    "    return v/math.sqrt(sum([x**2 for x in v]))\n",
    "\n",
    "def check_matrix(A):\n",
    "    # Ovim kodom proveravamo da li je matrica ortogonalna i da li je njena determinanta 1 (zbog\n",
    "    # racuna sa decimalnim brojevima, postoji mogucnost greske, pa proveravamo da li je \n",
    "    # \"dovoljno blizu\" 1, tj. da li je razlika dovoljno blizu 0).\n",
    "    if abs(LA.det(A)-1) >= 0.00001 or ((A.T @ A) != np.eye(3)).all():\n",
    "        print('Matrica nije validna!')\n",
    "        return False;\n",
    "    return True;\n",
    "\n",
    "def axis_angle(A):\n",
    "    # Prvo je potrebno proveriti da li je matrica ortogonalna i da li je njena determinanta 1.\n",
    "    # Ako nije, znamo da se ne radi o rotaciji.\n",
    "    if not check_matrix(A):\n",
    "        print('Matrica nije validna.');\n",
    "        return;\n",
    "    \n",
    "    B = A - np.eye(3)\n",
    "    p = np.cross(B[0], B[1])\n",
    "    if not np.any(p):\n",
    "        p = np.cross(B[0], B[2])\n",
    "        if not np.any(p):\n",
    "            p = np.cross(B[1], B[2])\n",
    "    p = normalize(p)\n",
    "\n",
    "    x = B[0]\n",
    "    if not np.any(x):\n",
    "        x = B[1]\n",
    "        if not np.any(x):\n",
    "            x = B[2]\n",
    "    x = normalize(x)\n",
    "    xp = np.matmul(A, x)\n",
    "\n",
    "    angle = math.acos(np.dot(x, xp))\n",
    "    if LA.det(np.array([x, xp, p])) < 0:\n",
    "        p = -p\n",
    "    \n",
    "    return (p, angle)"
   ]
  },
  {
   "cell_type": "markdown",
   "metadata": {},
   "source": [
    "### Rodrigez\n",
    "\n",
    "Rodrigez[p, φ] - vraca matricu rotacije oko orjentisanog (jedinicnog) vektora p za ugao φ."
   ]
  },
  {
   "cell_type": "code",
   "execution_count": 47,
   "metadata": {},
   "outputs": [],
   "source": [
    "def rodrigez(p, angle):\n",
    "    p = normalize(p)\n",
    "    ppt = p.reshape(3, -1) * p\n",
    "    px = np.array([\n",
    "        [0, -p[2], p[1]], \n",
    "        [p[2], 0, -p[0]], \n",
    "        [-p[1], p[0], 0]\n",
    "    ])\n",
    "    R = ppt + np.cos(angle)*(np.eye(3)-ppt) + np.sin(angle)*px\n",
    "    return R"
   ]
  },
  {
   "cell_type": "markdown",
   "metadata": {},
   "source": [
    "### A2Euler\n",
    "\n",
    "A2Euler[A] - za datu ortogonalnu matricu A, det A = 1, vraca Ojlerove\n",
    "uglove φ, θ, ψ, redom."
   ]
  },
  {
   "cell_type": "code",
   "execution_count": 48,
   "metadata": {},
   "outputs": [],
   "source": [
    "def a2euler(A):\n",
    "    # Opet moramo proveriti da li je matrica rotacija.\n",
    "    if not check_matrix(A):\n",
    "        return\n",
    "\n",
    "    if A[2, 0] < 1:\n",
    "        if A[2, 0] > -1:\n",
    "            psi = math.atan2(A[1,0], A[0,0])\n",
    "            theta = math.asin(-A[2,0])\n",
    "            phi = math.atan2(A[2,1], A[2,2])\n",
    "        else:\n",
    "            psi = math.atan2(-A[0,1], A[1,1])\n",
    "            theta = math.pi/2\n",
    "            phi = 0\n",
    "    else:\n",
    "        psi = math.atan2(-A[0,1], A[1,1])\n",
    "        theta = -math.pi/2\n",
    "        phi = 0\n",
    "    \n",
    "    return (phi, theta, psi)"
   ]
  },
  {
   "cell_type": "markdown",
   "metadata": {},
   "source": [
    "### AxisAngle2Q\n",
    "\n",
    "AxisAngle2Q[p, φ] - vraca jednicni kvaternion q = (x, y, z, w) tako da\n",
    "Cq = Rp(φ). Vektor p je jednicni."
   ]
  },
  {
   "cell_type": "code",
   "execution_count": 49,
   "metadata": {},
   "outputs": [],
   "source": [
    "def axisangle2q(p, angle):\n",
    "    w = math.cos(angle/2)\n",
    "    p = normalize(p)\n",
    "    x, y, z = math.sin(angle/2)*p\n",
    "    return np.array([x, y, z, w])"
   ]
  },
  {
   "cell_type": "markdown",
   "metadata": {},
   "source": [
    "### Q2AxisAngle\n",
    "\n",
    "Q2AxisAngle[q] - vraca jedinicni vektor p = (px, py, pz) i ugao φ ∈ [0, π]\n",
    "tako da kvaternion predstavlja rotaciju Rp(φ), tj. Cq = Rp(φ)."
   ]
  },
  {
   "cell_type": "code",
   "execution_count": 50,
   "metadata": {},
   "outputs": [],
   "source": [
    "def q2axisangle(q):\n",
    "    q = normalize(q)\n",
    "    if q[3] < 0:\n",
    "        q = -1 * q\n",
    "    angle = 2 * math.acos(q[3])\n",
    "    if abs(q[3]) == 1:\n",
    "        p = np.array([1, 0, 0])\n",
    "    else:\n",
    "        p = np.array(q[0:3])\n",
    "        p = normalize(p)\n",
    "    return (p, angle)"
   ]
  },
  {
   "cell_type": "markdown",
   "metadata": {},
   "source": [
    "# Testiranje\n",
    "\n",
    "### Test primer iz zadatka:"
   ]
  },
  {
   "cell_type": "code",
   "execution_count": 63,
   "metadata": {},
   "outputs": [
    {
     "name": "stdout",
     "output_type": "stream",
     "text": [
      "phi:  -0.004275684268697806\n",
      "theta:  -0.019109855672431838\n",
      "psi:  0.02313988351210597\n"
     ]
    }
   ],
   "source": [
    "# Inicijalizacija\n",
    "phi = -math.atan(1/4)\n",
    "theta = -math.asin(8/9)\n",
    "psi = math.atan(4)\n",
    "\n",
    "phi = math.radians(phi)\n",
    "theta = math.radians(theta)\n",
    "psi = math.radians(psi)\n",
    "print('phi: ', phi)\n",
    "print('theta: ', theta)\n",
    "print('psi: ', psi)"
   ]
  },
  {
   "cell_type": "markdown",
   "metadata": {},
   "source": [
    "Sada je potrebno redom primeniti funkcije:\n",
    "- Euler2A\n",
    "- AxisAngle\n",
    "- Rodrigez\n",
    "- A2Euler\n",
    "\n",
    "Nakon toga bi trebalo da dobijemo istu matricu i iste uglove od kojih smo krenuli. Proverimo da \n",
    "li se ti i desava:"
   ]
  },
  {
   "cell_type": "code",
   "execution_count": 52,
   "metadata": {},
   "outputs": [
    {
     "data": {
      "text/plain": [
       "array([[ 0.99954975, -0.02305593, -0.01920233],\n",
       "       [ 0.02313359,  0.99972504,  0.0038324 ],\n",
       "       [ 0.01910869, -0.00427489,  0.99980827]])"
      ]
     },
     "execution_count": 52,
     "metadata": {},
     "output_type": "execute_result"
    }
   ],
   "source": [
    "# Euler2A\n",
    "A = euler2a(phi, theta, psi)\n",
    "A"
   ]
  },
  {
   "cell_type": "code",
   "execution_count": 53,
   "metadata": {},
   "outputs": [
    {
     "name": "stdout",
     "output_type": "stream",
     "text": [
      "[-0.13388256 -0.63266264  0.76276696]\n",
      "0.030282237277914577\n"
     ]
    }
   ],
   "source": [
    "# AxisAngle\n",
    "p, angle = axis_angle(A)\n",
    "print(p)\n",
    "print(angle)"
   ]
  },
  {
   "cell_type": "code",
   "execution_count": 54,
   "metadata": {},
   "outputs": [
    {
     "data": {
      "text/plain": [
       "array([[ 0.99954975, -0.02305593, -0.01920233],\n",
       "       [ 0.02313359,  0.99972504,  0.0038324 ],\n",
       "       [ 0.01910869, -0.00427489,  0.99980827]])"
      ]
     },
     "execution_count": 54,
     "metadata": {},
     "output_type": "execute_result"
    }
   ],
   "source": [
    "# Rodrigez\n",
    "A = rodrigez(p, angle)\n",
    "A"
   ]
  },
  {
   "cell_type": "code",
   "execution_count": 57,
   "metadata": {},
   "outputs": [
    {
     "name": "stdout",
     "output_type": "stream",
     "text": [
      "phi:  -0.004275684268697602\n",
      "theta:  -0.01910985567243078\n",
      "psi:  0.023139883512104675\n"
     ]
    }
   ],
   "source": [
    "phi, theta, psi = a2euler(A)\n",
    "print('phi: ', phi)\n",
    "print('theta: ', theta)\n",
    "print('psi: ', psi)"
   ]
  },
  {
   "cell_type": "markdown",
   "metadata": {},
   "source": [
    "Vidimo da je nasa hipoteza bila tacna. Sada cemo primeniti i funkcije:\n",
    "- AxisAngle2Q\n",
    "- Q2AxisAngle\n",
    "\n",
    "Kompozicija ovih funkcija bi takodje trebalo da vrati iste uglove od kojih smo krenuli."
   ]
  },
  {
   "cell_type": "code",
   "execution_count": 59,
   "metadata": {},
   "outputs": [
    {
     "data": {
      "text/plain": [
       "array([-0.00202705, -0.00957885,  0.0115487 ,  0.99988538])"
      ]
     },
     "execution_count": 59,
     "metadata": {},
     "output_type": "execute_result"
    }
   ],
   "source": [
    "# AxisAngle2Q\n",
    "q = axisangle2q(p, angle)\n",
    "q"
   ]
  },
  {
   "cell_type": "code",
   "execution_count": 61,
   "metadata": {},
   "outputs": [
    {
     "name": "stdout",
     "output_type": "stream",
     "text": [
      "[-0.13388256 -0.63266264  0.76276696]\n",
      "0.030282237277915645\n"
     ]
    }
   ],
   "source": [
    "# Q2AxisAngle\n",
    "p, angle = q2axisangle(q)\n",
    "print(p)\n",
    "print(angle)"
   ]
  },
  {
   "cell_type": "markdown",
   "metadata": {},
   "source": [
    "Jos jednom, nasa hipoteza se ispostavila kao tacna."
   ]
  },
  {
   "cell_type": "markdown",
   "metadata": {},
   "source": [
    "### Originalan test primer"
   ]
  },
  {
   "cell_type": "code",
   "execution_count": 64,
   "metadata": {},
   "outputs": [
    {
     "name": "stdout",
     "output_type": "stream",
     "text": [
      "phi:  1.3089969389957472\n",
      "theta:  1.0471975511965976\n",
      "psi:  0.7853981633974483\n"
     ]
    }
   ],
   "source": [
    "# Inicijalizacija\n",
    "phi = 75\n",
    "theta = 60\n",
    "psi = 45\n",
    "\n",
    "phi = math.radians(phi)\n",
    "theta = math.radians(theta)\n",
    "psi = math.radians(psi)\n",
    "print('phi: ', phi)\n",
    "print('theta: ', theta)\n",
    "print('psi: ', psi)"
   ]
  },
  {
   "cell_type": "markdown",
   "metadata": {},
   "source": [
    "Opet cemo primeniti kompoziciju prve cetiri funkcije, i proveriti da li dobijamo iste podatke od kojih smo posli."
   ]
  },
  {
   "cell_type": "code",
   "execution_count": 65,
   "metadata": {},
   "outputs": [
    {
     "data": {
      "text/plain": [
       "array([[ 0.35355339,  0.40849365,  0.84150635],\n",
       "       [ 0.35355339,  0.77451905, -0.52451905],\n",
       "       [-0.8660254 ,  0.48296291,  0.12940952]])"
      ]
     },
     "execution_count": 65,
     "metadata": {},
     "output_type": "execute_result"
    }
   ],
   "source": [
    "# Euler2A\n",
    "A = euler2a(phi, theta, psi)\n",
    "A"
   ]
  },
  {
   "cell_type": "code",
   "execution_count": 66,
   "metadata": {},
   "outputs": [
    {
     "name": "stdout",
     "output_type": "stream",
     "text": [
      "[ 0.50796817  0.86093032 -0.02770065]\n",
      "1.4416970342245494\n"
     ]
    }
   ],
   "source": [
    "# AxisAngle\n",
    "p, angle = axis_angle(A)\n",
    "print(p)\n",
    "print(angle)"
   ]
  },
  {
   "cell_type": "code",
   "execution_count": 67,
   "metadata": {},
   "outputs": [
    {
     "data": {
      "text/plain": [
       "array([[ 0.35355339,  0.40849365,  0.84150635],\n",
       "       [ 0.35355339,  0.77451905, -0.52451905],\n",
       "       [-0.8660254 ,  0.48296291,  0.12940952]])"
      ]
     },
     "execution_count": 67,
     "metadata": {},
     "output_type": "execute_result"
    }
   ],
   "source": [
    "# Rodrigez\n",
    "A = rodrigez(p, angle)\n",
    "A"
   ]
  },
  {
   "cell_type": "code",
   "execution_count": 68,
   "metadata": {},
   "outputs": [
    {
     "name": "stdout",
     "output_type": "stream",
     "text": [
      "phi:  1.308996938995749\n",
      "theta:  1.0471975511965945\n",
      "psi:  0.7853981633974502\n"
     ]
    }
   ],
   "source": [
    "phi, theta, psi = a2euler(A)\n",
    "print('phi: ', phi)\n",
    "print('theta: ', theta)\n",
    "print('psi: ', psi)"
   ]
  },
  {
   "cell_type": "markdown",
   "metadata": {},
   "source": [
    "Kao sto je i ocekivano, dobijeni rezultat se poklapa sa polaznim podacima. Ostalo je jos da testiramo funkcije AxisAngle2Q i Q2AxisAngle:"
   ]
  },
  {
   "cell_type": "code",
   "execution_count": 69,
   "metadata": {},
   "outputs": [
    {
     "data": {
      "text/plain": [
       "array([ 0.33527034,  0.56823326, -0.01828305,  0.75124596])"
      ]
     },
     "execution_count": 69,
     "metadata": {},
     "output_type": "execute_result"
    }
   ],
   "source": [
    "# AxisAngle2Q\n",
    "q = axisangle2q(p, angle)\n",
    "q"
   ]
  },
  {
   "cell_type": "code",
   "execution_count": 70,
   "metadata": {},
   "outputs": [
    {
     "name": "stdout",
     "output_type": "stream",
     "text": [
      "[ 0.50796817  0.86093032 -0.02770065]\n",
      "1.441697034224549\n"
     ]
    }
   ],
   "source": [
    "# Q2AxisAngle\n",
    "p, angle = q2axisangle(q)\n",
    "print(p)\n",
    "print(angle)"
   ]
  },
  {
   "cell_type": "markdown",
   "metadata": {},
   "source": [
    "Vidimo da se rezultat funkcije Q2AxisAngle poklapa sa rezultatom funkcije AxisAngle, sto je ono sto smo ocekivali, pa time zavrsavamo ovo testiranje."
   ]
  },
  {
   "cell_type": "code",
   "execution_count": null,
   "metadata": {},
   "outputs": [],
   "source": []
  }
 ],
 "metadata": {
  "kernelspec": {
   "display_name": "Python 3",
   "language": "python",
   "name": "python3"
  },
  "language_info": {
   "codemirror_mode": {
    "name": "ipython",
    "version": 3
   },
   "file_extension": ".py",
   "mimetype": "text/x-python",
   "name": "python",
   "nbconvert_exporter": "python",
   "pygments_lexer": "ipython3",
   "version": "3.8.3"
  }
 },
 "nbformat": 4,
 "nbformat_minor": 4
}
